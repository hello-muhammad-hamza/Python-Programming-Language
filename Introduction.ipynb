{
  "nbformat": 4,
  "nbformat_minor": 0,
  "metadata": {
    "colab": {
      "provenance": [],
      "authorship_tag": "ABX9TyO+qng7YMt7e+bUQ6QyKJpu",
      "include_colab_link": true
    },
    "kernelspec": {
      "name": "python3",
      "display_name": "Python 3"
    },
    "language_info": {
      "name": "python"
    }
  },
  "cells": [
    {
      "cell_type": "markdown",
      "metadata": {
        "id": "view-in-github",
        "colab_type": "text"
      },
      "source": [
        "<a href=\"https://colab.research.google.com/github/hello-muhammad-hamza/Python-Programming-Language/blob/main/Introduction.ipynb\" target=\"_parent\"><img src=\"https://colab.research.google.com/assets/colab-badge.svg\" alt=\"Open In Colab\"/></a>"
      ]
    },
    {
      "cell_type": "markdown",
      "source": [
        "# ***INTRODUCTION TO PYTHON AS A FIRST PROGRAMMIGN LANGUAGE 🚀***\n",
        "---\n",
        "---\n",
        "\n"
      ],
      "metadata": {
        "id": "b4Q9FX8BDGt0"
      }
    },
    {
      "cell_type": "markdown",
      "source": [
        " **What is Programming** **💻?**\n",
        "\n",
        "**Programming** is the process of **giving instructions to a computer** to perform specific tasks. Think of it as teaching a computer how to solve problems or create something new."
      ],
      "metadata": {
        "id": "idomkoheLUs6"
      }
    },
    {
      "cell_type": "markdown",
      "source": [
        "\n",
        "# **📍 What is Python?**\n",
        "🔹 Python is a **high-level interpreted** programming language.\n",
        "\n",
        "🔹 It is used in **web development, data science, automation, AI, game  development, machine learning** and much more.\n",
        "\n",
        "🔹 Created by **Guido van Rossum in 1991** at CWI (Netherlands).\n",
        "\n",
        "\n",
        "\n",
        "\n"
      ],
      "metadata": {
        "id": "RzXLHJweLvhh"
      }
    },
    {
      "cell_type": "markdown",
      "source": [],
      "metadata": {
        "id": "OUPHvsbn6X_0"
      }
    },
    {
      "cell_type": "markdown",
      "source": [
        "# **📍History of Python**\n",
        "\n",
        "**📅 1991 -** Python 0.9.0 released.\n",
        "\n",
        "**📅 1994 -** Python 1.0 released (introduced exception handling, core data types).\n",
        "\n",
        "**📅 2000 -** Python 2.0 released (added garbage collection, Unicode support).\n",
        "\n",
        "**📅 2008 -** Python 3.0 released (major changes, improved Unicode support).\n",
        "\n",
        "**📅 2020 -** Python 2 officially discontinued.\n",
        "\n",
        "\n",
        "\n",
        "\n",
        "\n"
      ],
      "metadata": {
        "id": "r9xDr1KtOUZG"
      }
    },
    {
      "cell_type": "markdown",
      "source": [
        "# **📍 Key Features of Python**\n",
        "\n",
        "**✅ Easy to Learn -**Simple and English-like syntax.\n",
        "\n",
        "**✅ Interpreted Language -** No need for compilation, runs line by line.\n",
        "\n",
        "**✅ Dynamically Typed -** No need to declare variable types.\n",
        "\n",
        "**✅ Multi-Paradigm -** Supports OOP, functional, and procedural programming.\n",
        "\n",
        "**✅ Extensive Libraries -**  Built-in support for AI, data science, and web  \n",
        "\n",
        "   development.\n",
        "\n",
        "\n",
        "\n",
        "\n",
        "\n",
        "\n",
        "\n"
      ],
      "metadata": {
        "id": "ANGLv_WHPwJD"
      }
    },
    {
      "cell_type": "markdown",
      "source": [
        "# **Applications of Python 💻**\n",
        "\n",
        "\n",
        "\n",
        "**💻 Web Development →** Django, Flask\n",
        "\n",
        "**📊 Data Science & AI →** NumPy, Pandas, TensorFlow\n",
        "\n",
        "**🤖 Automation & Scripting →**  Automate repetitive tasks\n",
        "\n",
        "**🎮 Game Development →** Pygame\n",
        "\n",
        "**🚀 Cybersecurity & Hacking →** Used in penetration testing\n",
        "\n",
        "\n",
        "\n",
        "\n",
        "\n",
        "\n",
        "\n",
        "\n",
        "\n"
      ],
      "metadata": {
        "id": "MXFZ_iG0Q5_6"
      }
    },
    {
      "cell_type": "markdown",
      "source": [
        "# **Why Learn Python? 🐍**\n",
        "\n",
        "\n",
        "*   High demand in the job market\n",
        "*   Beginner-friendly language\n",
        "\n",
        "*   Syntax easily understandible\n",
        "\n",
        "*   Perfect for first-time programmers\n",
        "*   Used by companies like Google, Facebook, NASA, and Netflix\n",
        "\n",
        "*   Open-source with a strong community support\n",
        "\n",
        "\n",
        "\n",
        "\n"
      ],
      "metadata": {
        "id": "EaC1iaHo6adG"
      }
    }
  ]
}