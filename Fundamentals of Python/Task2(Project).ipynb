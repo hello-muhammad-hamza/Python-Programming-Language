{
  "nbformat": 4,
  "nbformat_minor": 0,
  "metadata": {
    "colab": {
      "provenance": []
    },
    "kernelspec": {
      "name": "python3",
      "display_name": "Python 3"
    },
    "language_info": {
      "name": "python"
    }
  },
  "cells": [
    {
      "cell_type": "markdown",
      "source": [
        "\n",
        "\n",
        "#             ***project:***\n",
        "---\n",
        "# Dictionary to map grades according to marks."
      ],
      "metadata": {
        "id": "G7XzP-dV8f8b"
      }
    },
    {
      "cell_type": "code",
      "source": [
        "\n",
        "grade_dict = {\n",
        "    'A': (90, 100),\n",
        "    'B': (80, 89),\n",
        "    'C': (70, 79),\n",
        "    'D': (60, 69),\n",
        "    'E': (50, 59),\n",
        "    'F': (0, 49)\n",
        "}\n",
        "\n",
        "# Input: Taking marks from the user\n",
        "marks = int(input(\"Enter the marks: \"))\n",
        "\n",
        "    # Check the marks against the grade ranges\n",
        "if 90 <= marks <= 100:\n",
        "        grade = 'A'\n",
        "elif 80 <= marks <= 89:\n",
        "        grade = 'B'\n",
        "elif 70 <= marks <= 79:\n",
        "        grade = 'C'\n",
        "elif 60 <= marks <= 69:\n",
        "        grade = 'D'\n",
        "elif 50 <= marks <= 59:\n",
        "        grade = 'E'\n",
        "else:\n",
        "        grade = 'Fail'\n",
        "\n",
        "print(\"Your grade is:\",grade)"
      ],
      "metadata": {
        "colab": {
          "base_uri": "https://localhost:8080/"
        },
        "id": "ea-2iWLG8-ke",
        "outputId": "e06c1cd0-a59b-41ce-eb9c-240540023e83"
      },
      "execution_count": 1,
      "outputs": [
        {
          "output_type": "stream",
          "name": "stdout",
          "text": [
            "Enter the marks: 99\n",
            "Your grade is: A\n"
          ]
        }
      ]
    }
  ]
}