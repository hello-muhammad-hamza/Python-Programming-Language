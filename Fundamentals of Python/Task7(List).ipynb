{
  "nbformat": 4,
  "nbformat_minor": 0,
  "metadata": {
    "colab": {
      "provenance": []
    },
    "kernelspec": {
      "name": "python3",
      "display_name": "Python 3"
    },
    "language_info": {
      "name": "python"
    }
  },
  "cells": [
    {
      "cell_type": "markdown",
      "source": [
        "# #                            List  (Data Structure)\n",
        "It is a built-in-data type in which we store set of values. It is mutable and orderless.\n",
        "\n",
        "It can be stored of various data type i-e; string,integer,float,etc.\n"
      ],
      "metadata": {
        "id": "MNhYzkT2Z0PJ"
      }
    },
    {
      "cell_type": "code",
      "execution_count": 1,
      "metadata": {
        "colab": {
          "base_uri": "https://localhost:8080/"
        },
        "id": "Vk_LjGQbZy8p",
        "outputId": "898e4a01-e21c-4cf8-e738-7d004581176a"
      },
      "outputs": [
        {
          "output_type": "stream",
          "name": "stdout",
          "text": [
            "[11, 22, 33, 44, 55, 66, 77]\n",
            "<class 'list'>\n",
            "7\n",
            "11\n"
          ]
        }
      ],
      "source": [
        "\n",
        "a = [11,22,33,44,55,66,77]\n",
        "print(a)\n",
        "print(type(a))\n",
        "print(len(a)) # length of list\n",
        "print(a[0])  # index in list\n"
      ]
    },
    {
      "cell_type": "markdown",
      "source": [
        "\n",
        "# List is mutable data type\n",
        " It means we can change the element in list at specicic index."
      ],
      "metadata": {
        "id": "hgY6rNZXaeTU"
      }
    },
    {
      "cell_type": "code",
      "source": [
        "list = [\"Ali\",88,\"Peshawar\"]\n",
        "list[1]=\"Usman\"\n",
        "print(list) # change data in list at specific index, which is mutable."
      ],
      "metadata": {
        "colab": {
          "base_uri": "https://localhost:8080/"
        },
        "id": "q8dheg6IaPuA",
        "outputId": "7aea0d7e-cee6-420e-b92c-5f3939f11a16"
      },
      "execution_count": 2,
      "outputs": [
        {
          "output_type": "stream",
          "name": "stdout",
          "text": [
            "['Ali', 'Usman', 'Peshawar']\n"
          ]
        }
      ]
    },
    {
      "cell_type": "markdown",
      "source": [
        "\n",
        "# List Slicing"
      ],
      "metadata": {
        "id": "rmzpL3e_a-qz"
      }
    },
    {
      "cell_type": "code",
      "source": [
        "b = [222,333,444,555,666,777]\n",
        "print(b[1:5])\n",
        "print(b[1:4])\n"
      ],
      "metadata": {
        "colab": {
          "base_uri": "https://localhost:8080/"
        },
        "id": "oqd1jdqYa9ZE",
        "outputId": "440dafa0-bea0-464b-af74-39ab77a5e7cb"
      },
      "execution_count": 3,
      "outputs": [
        {
          "output_type": "stream",
          "name": "stdout",
          "text": [
            "[333, 444, 555, 666]\n",
            "[333, 444, 555]\n"
          ]
        }
      ]
    },
    {
      "cell_type": "markdown",
      "source": [
        "# Negative Slicing"
      ],
      "metadata": {
        "id": "qv5Wa5JCbR9K"
      }
    },
    {
      "cell_type": "code",
      "source": [
        "b = [222,333,444,555,666,777]\n",
        "print(b[-4:-1])\n",
        "print(b[-6:-1])\n"
      ],
      "metadata": {
        "colab": {
          "base_uri": "https://localhost:8080/"
        },
        "id": "F7iT-JrXbRQr",
        "outputId": "0c056ddf-7973-4ef3-b0f3-7b6752b62318"
      },
      "execution_count": 4,
      "outputs": [
        {
          "output_type": "stream",
          "name": "stdout",
          "text": [
            "[444, 555, 666]\n",
            "[222, 333, 444, 555, 666]\n"
          ]
        }
      ]
    },
    {
      "cell_type": "markdown",
      "source": [
        "\n",
        "# List Methods\n",
        " Methods are specific which is applied in one data structure, may be donot apply on the other data structure.\n"
      ],
      "metadata": {
        "id": "Wmg0r6P4b9XJ"
      }
    },
    {
      "cell_type": "code",
      "source": [],
      "metadata": {
        "id": "UR1numQJbWyW"
      },
      "execution_count": null,
      "outputs": []
    },
    {
      "cell_type": "markdown",
      "source": [
        "\n",
        "# .append() method :\n",
        " Add elements at the end of list."
      ],
      "metadata": {
        "id": "6-PTMsRKccMn"
      }
    },
    {
      "cell_type": "code",
      "source": [
        "\n",
        "c = [\"Ali\",\"Usman\",\"Huzaifa\",\"Mohsin\",\"Mubarak\"]\n",
        "c.append(\"Musa khan\")\n",
        "print(c)\n",
        "# Similarly\n",
        "c1 = [55,66,33,22,77,11]\n",
        "c1.append(99)\n",
        "print(c1)"
      ],
      "metadata": {
        "colab": {
          "base_uri": "https://localhost:8080/"
        },
        "id": "4UV2rYL5cUea",
        "outputId": "44e19d9f-327b-4672-f957-d305dba22dd2"
      },
      "execution_count": 5,
      "outputs": [
        {
          "output_type": "stream",
          "name": "stdout",
          "text": [
            "['Ali', 'Usman', 'Huzaifa', 'Mohsin', 'Mubarak', 'Musa khan']\n",
            "[55, 66, 33, 22, 77, 11, 99]\n"
          ]
        }
      ]
    },
    {
      "cell_type": "markdown",
      "source": [
        "#  .sort() method :\n",
        " Arrange elements in ascending order in a list.\n"
      ],
      "metadata": {
        "id": "eRjmQmT1c_VG"
      }
    },
    {
      "cell_type": "code",
      "source": [
        "d = [\"Ali\",\"Usman\",\"Huzaifa\",\"Mohsin\",\"Mubarak\"]\n",
        "d.sort()\n",
        "print(d)\n",
        "# Similarly\n",
        "d1 = [55,66,33,22,77,11]\n",
        "d1.sort()\n",
        "print(d1)\n"
      ],
      "metadata": {
        "colab": {
          "base_uri": "https://localhost:8080/"
        },
        "id": "CjuyLxzBc6Xo",
        "outputId": "cfca8098-be0b-412c-84ce-cc056b8c6d08"
      },
      "execution_count": 6,
      "outputs": [
        {
          "output_type": "stream",
          "name": "stdout",
          "text": [
            "['Ali', 'Huzaifa', 'Mohsin', 'Mubarak', 'Usman']\n",
            "[11, 22, 33, 55, 66, 77]\n"
          ]
        }
      ]
    },
    {
      "cell_type": "markdown",
      "source": [
        "\n",
        "#   Reverse sort Method :\n",
        "Arrange the elements in descending order in a list.\n"
      ],
      "metadata": {
        "id": "tUN9PowGdW9k"
      }
    },
    {
      "cell_type": "code",
      "source": [
        "\n",
        "d2 = [55,66,33,22,77,11]\n",
        "d2.sort(reverse=True)\n",
        "print(d2)\n"
      ],
      "metadata": {
        "colab": {
          "base_uri": "https://localhost:8080/"
        },
        "id": "rsUq5fFndTg3",
        "outputId": "613cd602-a887-4c54-ee53-4d39c8dda753"
      },
      "execution_count": 10,
      "outputs": [
        {
          "output_type": "stream",
          "name": "stdout",
          "text": [
            "[77, 66, 55, 33, 22, 11]\n"
          ]
        }
      ]
    },
    {
      "cell_type": "markdown",
      "source": [
        "\n",
        "# .insert() Method :\n",
        "This method is closely related to append method but here we add element at particular index while in append we just add the element at the end of list.\n"
      ],
      "metadata": {
        "id": "y7ekMfyidse7"
      }
    },
    {
      "cell_type": "code",
      "source": [
        "e = [\"Apple\",\"Banana\",\"Vegetable\",\"Potato\"]\n",
        "e.insert(2,\"Peach\")\n",
        "print(e)\n",
        "e1 = [11,22,33,44]\n",
        "e1.insert(1,999)\n",
        "print(e1)"
      ],
      "metadata": {
        "colab": {
          "base_uri": "https://localhost:8080/"
        },
        "id": "YDTx6J2bdmf0",
        "outputId": "440c03f1-d69c-4588-c1e7-b8bf53e93320"
      },
      "execution_count": 12,
      "outputs": [
        {
          "output_type": "stream",
          "name": "stdout",
          "text": [
            "['Apple', 'Banana', 'Peach', 'Vegetable', 'Potato']\n",
            "[11, 999, 22, 33, 44]\n"
          ]
        }
      ]
    },
    {
      "cell_type": "markdown",
      "source": [
        "# .remove() Method :\n",
        " This method is used for removing any element from the list without mentioning particular index."
      ],
      "metadata": {
        "id": "CUfgJXEJehnI"
      }
    },
    {
      "cell_type": "code",
      "source": [
        "f = [\"Apple\",\"Banana\",\"Vegetable\",\"Potato\"]\n",
        "f.remove(\"Vegetable\")\n",
        "print(f)\n",
        "# Similarly\n",
        "f1 = [111,222,333,444,555,666]\n",
        "f1.remove(333)\n",
        "print(f1)"
      ],
      "metadata": {
        "colab": {
          "base_uri": "https://localhost:8080/"
        },
        "id": "tkzlmWZ6ehPr",
        "outputId": "f6866166-4931-41da-fa9a-bf38a6acba4e"
      },
      "execution_count": 13,
      "outputs": [
        {
          "output_type": "stream",
          "name": "stdout",
          "text": [
            "['Apple', 'Banana', 'Potato']\n",
            "[111, 222, 444, 555, 666]\n"
          ]
        }
      ]
    },
    {
      "cell_type": "markdown",
      "source": [
        "\n",
        "# .pop Method :\n",
        " This method use for remove any element from the list at particular index."
      ],
      "metadata": {
        "id": "Oeed3MzOew7I"
      }
    },
    {
      "cell_type": "code",
      "source": [
        "\n",
        "g = [\"Apple\",\"Banana\",\"Vegetable\",\"Potato\"]\n",
        "g.pop(2)\n",
        "print(g)\n",
        "# Similarly\n",
        "g1 = [111,222,333,444,555,666]\n",
        "g1.pop(2)\n",
        "print(g1)\n"
      ],
      "metadata": {
        "colab": {
          "base_uri": "https://localhost:8080/"
        },
        "id": "43i7DBMbetm7",
        "outputId": "f942b252-b0c6-4213-e983-b52a7855b3d2"
      },
      "execution_count": 15,
      "outputs": [
        {
          "output_type": "stream",
          "name": "stdout",
          "text": [
            "['Apple', 'Banana', 'Potato']\n",
            "[111, 222, 444, 555, 666]\n"
          ]
        }
      ]
    }
  ]
}