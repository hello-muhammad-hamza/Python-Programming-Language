{
  "nbformat": 4,
  "nbformat_minor": 0,
  "metadata": {
    "colab": {
      "provenance": []
    },
    "kernelspec": {
      "name": "python3",
      "display_name": "Python 3"
    },
    "language_info": {
      "name": "python"
    }
  },
  "cells": [
    {
      "cell_type": "markdown",
      "source": [
        "# #                Dictionary (Data Structure)\n",
        " Dictionay is built-in-data type which stores data in key:values pairs.\n",
        " It is mutable,orderless like \"list\" but don't allow duplicate keys."
      ],
      "metadata": {
        "id": "jqG0EFgAs0CV"
      }
    },
    {
      "cell_type": "code",
      "source": [
        "dic={\n",
        "    \"ali\": 20,\n",
        "    \"mustafa\": 30,\n",
        "    \"anjum\": 11,\n",
        "    \"hassan\":11.2,\n",
        "    \"husain\": \"ali raza\",\n",
        "    \"friends\":[\"jan\",\"khan\",\"zan\",\"sherkhan\"],\n",
        "    \"goodfriends\": (\"sk\",\"al\",\"dd\",\"ee\")\n",
        "}\n",
        "print(dic)\n",
        "print(type(dic))\n",
        "print(len(dic))   # length of dictionary.\n",
        "print(dic[\"friends\"]) # in dictionary we only access to keys like index in strings.\n",
        "\n",
        "dic[\"goodfriends\"]=\"best friends\" # same like assigning of an element by replacing specific element.\n",
        "\n",
        "dic[\"student of class\"]=\"hamza hassan\"  # same like append method (adding of an element)\n",
        "print(dic)"
      ],
      "metadata": {
        "colab": {
          "base_uri": "https://localhost:8080/"
        },
        "id": "qw_S0_90szi0",
        "outputId": "01daa43d-fb3b-4191-ccd7-7e142a239a4a"
      },
      "execution_count": 28,
      "outputs": [
        {
          "output_type": "stream",
          "name": "stdout",
          "text": [
            "{'ali': 20, 'mustafa': 30, 'anjum': 11, 'hassan': 11.2, 'husain': 'ali raza', 'friends': ['jan', 'khan', 'zan', 'sherkhan'], 'goodfriends': ('sk', 'al', 'dd', 'ee')}\n",
            "<class 'dict'>\n",
            "7\n",
            "['jan', 'khan', 'zan', 'sherkhan']\n",
            "{'ali': 20, 'mustafa': 30, 'anjum': 11, 'hassan': 11.2, 'husain': 'ali raza', 'friends': ['jan', 'khan', 'zan', 'sherkhan'], 'goodfriends': 'best friends', 'student of class': 'hamza hassan'}\n"
          ]
        }
      ]
    },
    {
      "cell_type": "markdown",
      "source": [
        "\n",
        "#  How to add new keys in null dictionary."
      ],
      "metadata": {
        "id": "wlNx2IkUtnQw"
      }
    },
    {
      "cell_type": "code",
      "source": [
        "dict1={}\n",
        "dict1[\"class fellow\"] = \"Ali\",\"Ahmad\",\"Mustafa\",\n",
        "dict1[\"relatives name\"] = \"Zakir\",\"Amir\",\n",
        "print(dict1)\n"
      ],
      "metadata": {
        "colab": {
          "base_uri": "https://localhost:8080/"
        },
        "id": "YZRqm_pktjYa",
        "outputId": "850cf287-ccd2-45a3-e7e5-ab3fe20f54b1"
      },
      "execution_count": 30,
      "outputs": [
        {
          "output_type": "stream",
          "name": "stdout",
          "text": [
            "{'class fellow': ('Ali', 'Ahmad', 'Mustafa'), 'relatives name': ('Zakir', 'Amir')}\n"
          ]
        }
      ]
    },
    {
      "cell_type": "markdown",
      "source": [
        "\n",
        "# Nesting Concept\n",
        " Making a data type inside the data type."
      ],
      "metadata": {
        "id": "a2MnDB3iuC6X"
      }
    },
    {
      "cell_type": "code",
      "source": [
        "a = {\n",
        "    \"name\":\"Muhammad Hamza\",\n",
        "    \"subjects\":{                            # nesting of one variable\n",
        "        \"bio\": 22,\n",
        "        \"che\": 33,\n",
        "        \"phy\": 44,\n",
        "        \"Hobbies\":{                        # nesting of second variable\n",
        "            \"football\": \"3 hours daily\",\n",
        "            \"cricket\":\" 4 hours daily\",\n",
        "        }\n",
        "    }\n",
        "}\n",
        "print(a)\n",
        "print(len(a))  # len of dictionary which is 2, it means it returns only keys len\n"
      ],
      "metadata": {
        "colab": {
          "base_uri": "https://localhost:8080/"
        },
        "id": "d7dzHPH3uAHD",
        "outputId": "6208dcde-6f83-4a82-d681-7602f695f704"
      },
      "execution_count": 31,
      "outputs": [
        {
          "output_type": "stream",
          "name": "stdout",
          "text": [
            "{'name': 'Muhammad Hamza', 'subjects': {'bio': 22, 'che': 33, 'phy': 44, 'Hobbies': {'football': '3 hours daily', 'cricket': ' 4 hours daily'}}}\n",
            "2\n"
          ]
        }
      ]
    },
    {
      "cell_type": "markdown",
      "source": [
        "# Dictionary Methods ;\n"
      ],
      "metadata": {
        "id": "cN7oKUEEumve"
      }
    },
    {
      "cell_type": "code",
      "source": [],
      "metadata": {
        "id": "j0wYaQVUufz_"
      },
      "execution_count": null,
      "outputs": []
    },
    {
      "cell_type": "markdown",
      "source": [
        "# .keys() Method\n",
        "  It returns all the keys values."
      ],
      "metadata": {
        "id": "SzNcu4fSuvYX"
      }
    },
    {
      "cell_type": "code",
      "source": [
        "\n",
        "a = {\n",
        "    \"name\":\"Muhammad Hamza\",\n",
        "    \"subjects\":{                            # nesting of one variable\n",
        "        \"bio\": 22,\n",
        "        \"che\": 33,\n",
        "        \"phy\": 44,\n",
        "        \"Hobbies\":{                        # nesting of second variable\n",
        "            \"football\": \"3 hours daily\",\n",
        "            \"cricket\":\" 4 hours daily\",\n",
        "        }\n",
        "    }\n",
        "}\n",
        "print(a.keys())"
      ],
      "metadata": {
        "colab": {
          "base_uri": "https://localhost:8080/"
        },
        "id": "8pVpRueMx-v1",
        "outputId": "3b5d13d2-d714-4507-a148-d1fe2e89e4e6"
      },
      "execution_count": 47,
      "outputs": [
        {
          "output_type": "stream",
          "name": "stdout",
          "text": [
            "dict_keys(['name', 'subjects'])\n"
          ]
        }
      ]
    },
    {
      "cell_type": "markdown",
      "source": [
        "\n",
        "# .values() Method\n",
        "It returns all values\n",
        "\n"
      ],
      "metadata": {
        "id": "3KhOE4qjvGGd"
      }
    },
    {
      "cell_type": "code",
      "source": [
        "a = {\n",
        "    \"name\":\"Muhammad Hamza\",\n",
        "    \"subjects\":{                            # nesting of one variable\n",
        "        \"bio\": 22,\n",
        "        \"che\": 33,\n",
        "        \"phy\": 44,\n",
        "        \"Hobbies\":{                        # nesting of second variable\n",
        "            \"football\": \"3 hours daily\",\n",
        "            \"cricket\":\" 4 hours daily\",\n",
        "        }\n",
        "    }\n",
        "}\n",
        "print(a.values())\n",
        "print(list(a.values()))  # Also Type casting"
      ],
      "metadata": {
        "colab": {
          "base_uri": "https://localhost:8080/"
        },
        "id": "XUhSkysMvbCF",
        "outputId": "349c9d1b-2c23-4ffa-bb72-7d9d8cea1490"
      },
      "execution_count": 38,
      "outputs": [
        {
          "output_type": "stream",
          "name": "stdout",
          "text": [
            "dict_values(['Muhammad Hamza', {'bio': 22, 'che': 33, 'phy': 44, 'Hobbies': {'football': '3 hours daily', 'cricket': ' 4 hours daily'}}])\n",
            "['Muhammad Hamza', {'bio': 22, 'che': 33, 'phy': 44, 'Hobbies': {'football': '3 hours daily', 'cricket': ' 4 hours daily'}}]\n"
          ]
        }
      ]
    },
    {
      "cell_type": "markdown",
      "source": [
        "\n",
        "# .items() Method\n",
        "Returns all keys,values pairs as tuples.\n"
      ],
      "metadata": {
        "id": "NMmXpxLnv4Ik"
      }
    },
    {
      "cell_type": "code",
      "source": [
        "a = {\n",
        "    \"name\":\"Muhammad Hamza\",\n",
        "    \"subjects\":{                            # nesting of one variable\n",
        "        \"bio\": 22,\n",
        "        \"che\": 33,\n",
        "        \"phy\": 44,\n",
        "        \"Hobbies\":{                        # nesting of second variable\n",
        "            \"football\": \"3 hours daily\",\n",
        "            \"cricket\":\" 4 hours daily\",\n",
        "        }\n",
        "    }\n",
        "}\n",
        "\n",
        "print(a.items())\n"
      ],
      "metadata": {
        "colab": {
          "base_uri": "https://localhost:8080/"
        },
        "id": "79w7wRWZv14d",
        "outputId": "437b5b15-09fa-49a9-e347-9beed8264e23"
      },
      "execution_count": 39,
      "outputs": [
        {
          "output_type": "stream",
          "name": "stdout",
          "text": [
            "dict_items([('name', 'Muhammad Hamza'), ('subjects', {'bio': 22, 'che': 33, 'phy': 44, 'Hobbies': {'football': '3 hours daily', 'cricket': ' 4 hours daily'}})])\n"
          ]
        }
      ]
    },
    {
      "cell_type": "markdown",
      "source": [
        "# .get() Method\n",
        "It returns the key according to value\n",
        "\n"
      ],
      "metadata": {
        "id": "YTKd7ZxEwTgq"
      }
    },
    {
      "cell_type": "code",
      "source": [
        "a = {\n",
        "    \"name\":\"Muhammad Hamza\",\n",
        "    \"subjects\":{                            # nesting of one variable\n",
        "        \"bio\": 22,\n",
        "        \"che\": 33,\n",
        "        \"phy\": 44,\n",
        "        \"Hobbies\":{                        # nesting of second variable\n",
        "            \"football\": \"3 hours daily\",\n",
        "            \"cricket\":\" 4 hours daily\",\n",
        "        }\n",
        "    }\n",
        "}\n",
        "print(a[\"name\"]) # it returns the error when we have no element.\n",
        "print(a.get(\"name\"))\n",
        "print(a.get(\"subjects\")) # Here we follow method rule because due to unavailability of element it returns the \"None\",while above returns error.\n"
      ],
      "metadata": {
        "colab": {
          "base_uri": "https://localhost:8080/"
        },
        "id": "eyjVIQXfwStR",
        "outputId": "404c02de-94c2-4a98-b3f7-cf3145d119ab"
      },
      "execution_count": 41,
      "outputs": [
        {
          "output_type": "stream",
          "name": "stdout",
          "text": [
            "Muhammad Hamza\n",
            "Muhammad Hamza\n",
            "{'bio': 22, 'che': 33, 'phy': 44, 'Hobbies': {'football': '3 hours daily', 'cricket': ' 4 hours daily'}}\n"
          ]
        }
      ]
    },
    {
      "cell_type": "markdown",
      "source": [
        "\n",
        "# .update() Method\n",
        " Insert the specified items to the dictionry\n",
        "\n",
        "\n"
      ],
      "metadata": {
        "id": "AR54Sr17w-Ta"
      }
    },
    {
      "cell_type": "code",
      "source": [
        "a = {\n",
        "    \"name\":\"Muhammad Hamza\",\n",
        "    \"subjects\":{                            # nesting of one variable\n",
        "        \"bio\": 22,\n",
        "        \"che\": 33,\n",
        "        \"phy\": 44,\n",
        "        \"Hobbies\":{                        # nesting of second variable\n",
        "            \"football\": \"3 hours daily\",\n",
        "            \"cricket\":\" 4 hours daily\",\n",
        "        }\n",
        "    }\n",
        "}\n",
        "\n",
        "a.update({\"city\":\"peshawar\"})\n",
        "print(a)\n",
        "b={\"ali\" : \"marks2222\",\n",
        "   \"shah\":\"marks1111\"}\n",
        "a.update(b)\n",
        "print(a)\n",
        "\n",
        "\n"
      ],
      "metadata": {
        "colab": {
          "base_uri": "https://localhost:8080/"
        },
        "id": "p2BadNejw9y5",
        "outputId": "e3a3d5cf-cdc7-4d37-dd80-995c8536469e"
      },
      "execution_count": 46,
      "outputs": [
        {
          "output_type": "stream",
          "name": "stdout",
          "text": [
            "{'name': 'Muhammad Hamza', 'subjects': {'bio': 22, 'che': 33, 'phy': 44, 'Hobbies': {'football': '3 hours daily', 'cricket': ' 4 hours daily'}}, 'city': 'peshawar'}\n",
            "{'name': 'Muhammad Hamza', 'subjects': {'bio': 22, 'che': 33, 'phy': 44, 'Hobbies': {'football': '3 hours daily', 'cricket': ' 4 hours daily'}}, 'city': 'peshawar', 'ali': 'marks2222', 'shah': 'marks1111'}\n"
          ]
        }
      ]
    }
  ]
}