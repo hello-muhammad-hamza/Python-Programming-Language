{
  "nbformat": 4,
  "nbformat_minor": 0,
  "metadata": {
    "colab": {
      "provenance": []
    },
    "kernelspec": {
      "name": "python3",
      "display_name": "Python 3"
    },
    "language_info": {
      "name": "python"
    }
  },
  "cells": [
    {
      "cell_type": "markdown",
      "source": [
        "#              Set\n",
        "   It is a collection of unordered(without index) items.\n",
        "\n",
        "  Each element in the set must be unique and immutable like tupple.\n",
        "  \n",
        "  In set data type \"set\" consider duplicate elements as a single element.\n"
      ],
      "metadata": {
        "id": "3Kpo7APbzdE6"
      }
    },
    {
      "cell_type": "code",
      "source": [
        "a={1,2,3,2,4,3}  # duplicate keys present but it returns only single key.\n",
        "print(a)\n",
        "print(type(a))\n",
        "print(len(a))\n"
      ],
      "metadata": {
        "colab": {
          "base_uri": "https://localhost:8080/"
        },
        "id": "t1AGQtdqzGtp",
        "outputId": "188bf592-0a92-4d6a-add3-a7411d52d3ac"
      },
      "execution_count": 48,
      "outputs": [
        {
          "output_type": "stream",
          "name": "stdout",
          "text": [
            "{1, 2, 3, 4}\n",
            "<class 'set'>\n",
            "4\n"
          ]
        }
      ]
    },
    {
      "cell_type": "markdown",
      "source": [
        "How to print an empty set."
      ],
      "metadata": {
        "id": "4qNdf4_ez8bG"
      }
    },
    {
      "cell_type": "code",
      "source": [
        "\n",
        "# Empty Set\n",
        "b = set()     # syntax of an empty set.\n",
        "print(type(b))\n"
      ],
      "metadata": {
        "colab": {
          "base_uri": "https://localhost:8080/"
        },
        "id": "twLL6kPxzxo2",
        "outputId": "27ac7eac-654a-459f-91e5-7375f5821827"
      },
      "execution_count": 49,
      "outputs": [
        {
          "output_type": "stream",
          "name": "stdout",
          "text": [
            "<class 'set'>\n"
          ]
        }
      ]
    },
    {
      "cell_type": "markdown",
      "source": [
        "# # Set Methods"
      ],
      "metadata": {
        "id": "GJPiD2sq0K68"
      }
    },
    {
      "cell_type": "markdown",
      "source": [
        "\n",
        "#  .add() Method\n",
        " It adds an elements in set"
      ],
      "metadata": {
        "id": "xcTC5Uss0RE0"
      }
    },
    {
      "cell_type": "code",
      "source": [
        "b = set()    # An empty set.\n",
        "b.add(1)\n",
        "b.add(2)\n",
        "b.add((\"a\",\"b\",\"c\"))  # Adding of tupple\n",
        "print(b)\n"
      ],
      "metadata": {
        "colab": {
          "base_uri": "https://localhost:8080/"
        },
        "id": "MfCQKKPx0QVN",
        "outputId": "e1ad355d-e6a6-4c55-8c95-18739ef4e662"
      },
      "execution_count": 50,
      "outputs": [
        {
          "output_type": "stream",
          "name": "stdout",
          "text": [
            "{1, 2, ('a', 'b', 'c')}\n"
          ]
        }
      ]
    },
    {
      "cell_type": "markdown",
      "source": [
        "\n",
        "#  .remove Method\n",
        "# It removes elements from the set\n"
      ],
      "metadata": {
        "id": "zGPEHLuU0yWD"
      }
    },
    {
      "cell_type": "code",
      "source": [
        "\n",
        "c ={2,3,4,5,6}\n",
        "c.remove(3)\n",
        "print(c)\n"
      ],
      "metadata": {
        "colab": {
          "base_uri": "https://localhost:8080/"
        },
        "id": "OJV7OQY90xG0",
        "outputId": "82687e48-977d-4df3-95c6-273a7e7cb4ad"
      },
      "execution_count": 51,
      "outputs": [
        {
          "output_type": "stream",
          "name": "stdout",
          "text": [
            "{2, 4, 5, 6}\n"
          ]
        }
      ]
    },
    {
      "cell_type": "markdown",
      "source": [
        "#  .clear Method\n",
        " It clear all the elemnets inside the set"
      ],
      "metadata": {
        "id": "-6nkK4bB1HjS"
      }
    },
    {
      "cell_type": "code",
      "source": [
        "d = {\"ali\",\"usman\",\"zain\"}\n",
        "d.clear()\n",
        "print(d)  # clean the set\n"
      ],
      "metadata": {
        "colab": {
          "base_uri": "https://localhost:8080/"
        },
        "id": "ALalQ-xg1EoT",
        "outputId": "14a758b1-8027-4ba6-dfbd-49d000022b7d"
      },
      "execution_count": 52,
      "outputs": [
        {
          "output_type": "stream",
          "name": "stdout",
          "text": [
            "set()\n"
          ]
        }
      ]
    },
    {
      "cell_type": "markdown",
      "source": [
        "\n",
        "# .uinion Method\n",
        "  It combines both set values and returns new value.\n"
      ],
      "metadata": {
        "id": "g1KVG42n2bQm"
      }
    },
    {
      "cell_type": "code",
      "source": [
        "f = {1,2,3}\n",
        "g = {3,4,5,6}\n",
        "print(f.union(g))   # it returns the both set values."
      ],
      "metadata": {
        "colab": {
          "base_uri": "https://localhost:8080/"
        },
        "id": "nVSIYeJi2ay9",
        "outputId": "401a3322-ffe7-4b6a-bcd3-da8e3589ab51"
      },
      "execution_count": 59,
      "outputs": [
        {
          "output_type": "stream",
          "name": "stdout",
          "text": [
            "{1, 2, 3, 4, 5, 6}\n"
          ]
        }
      ]
    },
    {
      "cell_type": "markdown",
      "source": [
        "\n",
        "#.intersection Method\n",
        " It combines common values and returns new value."
      ],
      "metadata": {
        "id": "PSddY4Op2osW"
      }
    },
    {
      "cell_type": "code",
      "source": [
        "h = {1,2,3,4,5}\n",
        "i = {4,5,6,7,8}\n",
        "print(h.intersection(i))  # Ir returns the common elements.\n"
      ],
      "metadata": {
        "colab": {
          "base_uri": "https://localhost:8080/"
        },
        "id": "1FpOytey2k7f",
        "outputId": "7cdaa6d3-efb3-4419-d4a4-2e77190831d5"
      },
      "execution_count": 60,
      "outputs": [
        {
          "output_type": "stream",
          "name": "stdout",
          "text": [
            "{4, 5}\n"
          ]
        }
      ]
    }
  ]
}