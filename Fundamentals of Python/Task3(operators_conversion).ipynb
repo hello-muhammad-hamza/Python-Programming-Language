{
  "nbformat": 4,
  "nbformat_minor": 0,
  "metadata": {
    "colab": {
      "provenance": []
    },
    "kernelspec": {
      "name": "python3",
      "display_name": "Python 3"
    },
    "language_info": {
      "name": "python"
    }
  },
  "cells": [
    {
      "cell_type": "markdown",
      "source": [
        "# ***Operators and Type Conversion***"
      ],
      "metadata": {
        "id": "fr38SurwAksA"
      }
    },
    {
      "cell_type": "markdown",
      "source": [
        "# Arithmetic Operators (+, -, *, /, %, **)\n"
      ],
      "metadata": {
        "id": "9svyojz77R6p"
      }
    },
    {
      "cell_type": "code",
      "execution_count": 1,
      "metadata": {
        "colab": {
          "base_uri": "https://localhost:8080/"
        },
        "id": "uCD-8laE7Gqj",
        "outputId": "315d18dd-0e06-4f38-8b9b-3966f71c007b"
      },
      "outputs": [
        {
          "output_type": "stream",
          "name": "stdout",
          "text": [
            "12\n",
            "0\n",
            "36\n",
            "1.0\n",
            "0\n",
            "46656\n"
          ]
        }
      ],
      "source": [
        "\n",
        "ali = 6\n",
        "hasseb = 6\n",
        "print(ali + hasseb)  # + operator\n",
        "print(ali - hasseb)  # - operator\n",
        "print(ali * hasseb)  # * operator\n",
        "print(ali / hasseb)  # / operator\n",
        "print(ali % hasseb)  # % operator : reminder output\n",
        "print(ali ** hasseb)  # ** operator"
      ]
    },
    {
      "cell_type": "markdown",
      "source": [
        "\n",
        "# Difference b/w Division \"/\" and Floor Division \"//\"\"\n",
        "\"\"\"single divide returns the float type value while\n",
        "double // returns the integer value.\"\"\"\n",
        "\n"
      ],
      "metadata": {
        "id": "C8bedhLA7iFN"
      }
    },
    {
      "cell_type": "code",
      "source": [
        "x = 10\n",
        "y = 10\n",
        "print (x/y) # float type output\n",
        "\n",
        "# Floor Division Operator\n",
        "x = 20\n",
        "y = 20\n",
        "print(x//y) # Floor division (integer type output)\n"
      ],
      "metadata": {
        "colab": {
          "base_uri": "https://localhost:8080/"
        },
        "id": "5Wcdjdvy7Zuw",
        "outputId": "fc60c94a-c41a-476f-a6f4-a9fb7c416d96"
      },
      "execution_count": 2,
      "outputs": [
        {
          "output_type": "stream",
          "name": "stdout",
          "text": [
            "1.0\n",
            "1\n"
          ]
        }
      ]
    },
    {
      "cell_type": "markdown",
      "source": [
        "\n",
        "# Relational / Comparison Operators (==,!=,>,<,>=,<=,)\n",
        "# It always returns the boolean type value."
      ],
      "metadata": {
        "id": "NXRNw-7q8tZJ"
      }
    },
    {
      "cell_type": "code",
      "source": [
        "\n",
        "s = 40\n",
        "r = 20\n",
        "t = (s == r)\n",
        "t1 = (s != r)\n",
        "t2 = (s > r)\n",
        "t3 = (s < r)\n",
        "t4 = (s >= r)\n",
        "t5 = (s <= r)\n",
        "print(t)\n",
        "print(t1)\n",
        "print(t2)\n",
        "print(t3)\n",
        "print(t4)\n",
        "print(t5)"
      ],
      "metadata": {
        "colab": {
          "base_uri": "https://localhost:8080/"
        },
        "id": "NQH6gu248pmX",
        "outputId": "487cabc6-3097-41de-c18a-8a70e35a457d"
      },
      "execution_count": 3,
      "outputs": [
        {
          "output_type": "stream",
          "name": "stdout",
          "text": [
            "False\n",
            "True\n",
            "True\n",
            "False\n",
            "True\n",
            "False\n"
          ]
        }
      ]
    },
    {
      "cell_type": "markdown",
      "source": [
        "# Assignment Operators (=,+=,*=,-=,/=,%=,**=)\n"
      ],
      "metadata": {
        "id": "ERkv6sC387B5"
      }
    },
    {
      "cell_type": "code",
      "source": [
        "\n",
        "a = 30\n",
        "a += 20\n",
        "print(a)\n",
        "\n",
        "a = 30\n",
        "a -= 20\n",
        "print(a)\n",
        "\n",
        "a = 3\n",
        "a *= 2\n",
        "print(a)\n",
        "\n",
        "a = 3\n",
        "a /= 2\n",
        "print(a)\n",
        "\n",
        "a = 3\n",
        "a %= 2\n",
        "print(a)\n",
        "\n",
        "a = 3\n",
        "a **= 2\n",
        "print(a)"
      ],
      "metadata": {
        "colab": {
          "base_uri": "https://localhost:8080/"
        },
        "id": "oTGZJ3A484Dy",
        "outputId": "cc316035-f822-483c-9248-90ee42057345"
      },
      "execution_count": 4,
      "outputs": [
        {
          "output_type": "stream",
          "name": "stdout",
          "text": [
            "50\n",
            "10\n",
            "6\n",
            "1.5\n",
            "1\n",
            "9\n"
          ]
        }
      ]
    },
    {
      "cell_type": "markdown",
      "source": [
        "# Membership operators;"
      ],
      "metadata": {
        "id": "8SXU3T5T9S53"
      }
    },
    {
      "cell_type": "code",
      "source": [
        "xy = [\"shakir\",222,\"ali\",\"musa\",3333,\"shakoor\"]\n",
        "sam = ( 222 in xy)\n",
        "print(sam)\n",
        "\n",
        "xy = [\"shakir\",2222,\"ali\",\"musa\",3333,\"shakoor\"]\n",
        "sam = (22 not in xy)\n",
        "print(sam)"
      ],
      "metadata": {
        "colab": {
          "base_uri": "https://localhost:8080/"
        },
        "id": "9EKz6epw9R1R",
        "outputId": "ada8e028-1df5-435e-b7d3-e52d4bab6686"
      },
      "execution_count": 5,
      "outputs": [
        {
          "output_type": "stream",
          "name": "stdout",
          "text": [
            "True\n",
            "True\n"
          ]
        }
      ]
    },
    {
      "cell_type": "markdown",
      "source": [
        "\n",
        "# Logical Operators (not,and,or)\n",
        "# not operator :\n",
        " \"not\" operator returns the opposite value of the given value.\n",
        "\n",
        " It works based on single value.\n"
      ],
      "metadata": {
        "id": "V-UHBKmd9xHu"
      }
    },
    {
      "cell_type": "code",
      "source": [
        "k = not True\n",
        "l = not False\n",
        "print(k)\n",
        "print(l)\n",
        "# Similarly\n",
        "ab = 88\n",
        "ac = 33\n",
        "bc = (not (ab>ac))\n",
        "print(bc)\n",
        "print(type(bc))"
      ],
      "metadata": {
        "colab": {
          "base_uri": "https://localhost:8080/"
        },
        "id": "jg9AqIrN9wE_",
        "outputId": "da5307b8-a478-4a93-abbd-0eb5f697148e"
      },
      "execution_count": 6,
      "outputs": [
        {
          "output_type": "stream",
          "name": "stdout",
          "text": [
            "False\n",
            "True\n",
            "False\n",
            "<class 'bool'>\n"
          ]
        }
      ]
    },
    {
      "cell_type": "markdown",
      "source": [
        "\n",
        "# and operator :\n",
        " It works based on two values."
      ],
      "metadata": {
        "id": "iPptgqFp-Nf8"
      }
    },
    {
      "cell_type": "code",
      "source": [
        "A = 55\n",
        "B = 99\n",
        "C = ((A<=B) and (A<B)) # It's output will be true, when both logics are correct.\n",
        "print(C)\n",
        "print(type(C))"
      ],
      "metadata": {
        "colab": {
          "base_uri": "https://localhost:8080/"
        },
        "id": "c9LVA-zx-Mev",
        "outputId": "8ad173bf-e298-4da4-c3be-5f09abef8b57"
      },
      "execution_count": 7,
      "outputs": [
        {
          "output_type": "stream",
          "name": "stdout",
          "text": [
            "True\n",
            "<class 'bool'>\n"
          ]
        }
      ]
    },
    {
      "cell_type": "markdown",
      "source": [
        "# or operator ;"
      ],
      "metadata": {
        "id": "uUtuMYUE-f_L"
      }
    },
    {
      "cell_type": "code",
      "source": [
        "A = 55\n",
        "B = 99\n",
        "C = ((A<B) or (A==B)) # It's output will be true, when one of them (logic) will be correct.\n",
        "print(C)\n",
        "print(type(C))"
      ],
      "metadata": {
        "colab": {
          "base_uri": "https://localhost:8080/"
        },
        "id": "16q0bKaQ-c7V",
        "outputId": "5c9e61b7-8984-456d-b7b5-1475e87c8d4a"
      },
      "execution_count": 8,
      "outputs": [
        {
          "output_type": "stream",
          "name": "stdout",
          "text": [
            "True\n",
            "<class 'bool'>\n"
          ]
        }
      ]
    },
    {
      "cell_type": "markdown",
      "source": [
        "\n",
        "# Type Conversion :\n",
        " When a one data type is coverted into another data type , this is known as Type Conversion.\n",
        "# Two types of conversion:\n",
        "\n",
        "# 1 : Type Conversion;\n"
      ],
      "metadata": {
        "id": "sJn1-b5B_BQC"
      }
    },
    {
      "cell_type": "code",
      "source": [
        "g = 9\n",
        "h = 6.3\n",
        "sum = (g + h)\n",
        "print(sum)     # here python automatically convert the integer value into float value.\n",
        "print(type(sum))\n",
        "# Note: it is not possible for python to convert the string into into float, so for this we use type Casting.\n"
      ],
      "metadata": {
        "colab": {
          "base_uri": "https://localhost:8080/"
        },
        "id": "BCkg_t3H-tLk",
        "outputId": "36db6373-fdd1-4bb0-d31b-31f13eda7431"
      },
      "execution_count": 10,
      "outputs": [
        {
          "output_type": "stream",
          "name": "stdout",
          "text": [
            "15.3\n",
            "<class 'float'>\n"
          ]
        }
      ]
    },
    {
      "cell_type": "markdown",
      "source": [
        "#2 : Type Casting\n"
      ],
      "metadata": {
        "id": "8Bswzmnq_wOv"
      }
    },
    {
      "cell_type": "code",
      "source": [
        "\n",
        "z = int(\"3\")\n",
        "p = 6.3\n",
        "sum = (z + p)\n",
        "print(sum)\n",
        "                # An examples of type casting.\n",
        "ali = 99\n",
        "ali = str(ali)\n",
        "print(type(ali))"
      ],
      "metadata": {
        "colab": {
          "base_uri": "https://localhost:8080/"
        },
        "id": "FaaglkDm_Vi0",
        "outputId": "2a6eda80-6b38-40c4-ef94-83102890ddef"
      },
      "execution_count": 14,
      "outputs": [
        {
          "output_type": "stream",
          "name": "stdout",
          "text": [
            "9.3\n",
            "<class 'str'>\n"
          ]
        }
      ]
    }
  ]
}