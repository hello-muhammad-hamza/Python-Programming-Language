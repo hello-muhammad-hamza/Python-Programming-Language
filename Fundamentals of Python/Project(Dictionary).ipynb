{
  "nbformat": 4,
  "nbformat_minor": 0,
  "metadata": {
    "colab": {
      "provenance": []
    },
    "kernelspec": {
      "name": "python3",
      "display_name": "Python 3"
    },
    "language_info": {
      "name": "python"
    }
  },
  "cells": [
    {
      "cell_type": "markdown",
      "source": [
        "# **Small Project related to Dictionary**::\n",
        "\n",
        "---\n",
        "\n",
        "\n",
        "#  write a program and take marks of 3 subjects from the user and store them in a dictionary. Start with an empty dictionary and add one by one.Use subject name as key and marks as value."
      ],
      "metadata": {
        "id": "mxaswJmo3l3G"
      }
    },
    {
      "cell_type": "code",
      "source": [
        "\n",
        "empty_dic= {}                  # empty dictionary\n",
        "bio = int(input(\"Enter your marks\"))\n",
        "chem = int(input(\"Enter your marks\"))\n",
        "phy = int(input(\"Enter your marks\"))\n",
        "\n",
        "empty_dic.update({\"bio\":bio})   # .update method used7\n",
        "empty_dic.update({\"chem\":chem})\n",
        "empty_dic.update({\"phy\":phy})\n",
        "print(empty_dic)\n"
      ],
      "metadata": {
        "colab": {
          "base_uri": "https://localhost:8080/"
        },
        "id": "eTB0XDKT3lZP",
        "outputId": "0d359dc5-f294-40af-b5c6-046a48ed040f"
      },
      "execution_count": 64,
      "outputs": [
        {
          "output_type": "stream",
          "name": "stdout",
          "text": [
            "Enter your marks60\n",
            "Enter your marks70\n",
            "Enter your marks80\n",
            "{'bio': 60, 'chem': 70, 'phy': 80}\n"
          ]
        }
      ]
    }
  ]
}