{
  "nbformat": 4,
  "nbformat_minor": 0,
  "metadata": {
    "colab": {
      "provenance": []
    },
    "kernelspec": {
      "name": "python3",
      "display_name": "Python 3"
    },
    "language_info": {
      "name": "python"
    }
  },
  "cells": [
    {
      "cell_type": "markdown",
      "source": [
        "#         INTRODUCTION TO PYTHON AS A PROGRAMMING LANGUAGE\n",
        "\n",
        "# Lecture: 1\n",
        "# # Variables\n",
        "# # Data Types\n",
        "# # Operations\n",
        "    # what is programming ?\n",
        "Programming is basically the instructions which is given to the machine in the form of code,\n",
        "   which is also called High level language and those instructions are\n",
        "   translated through translator i-e compiler and interpreter to the machine, which is also called Low level language.\n",
        "   So we have a lot of Programming languages like C++,Java,python etc...\n",
        "   So now here in this chapter we discuss \"Python as a Programming language\" which is also called High level language.\n",
        "\n",
        "# What is Python ?\n",
        " Python is simple & Easy Language\n",
        "# Free & Open Source\n",
        "# High Level Language\n",
        "# Easily Understandable Language\n",
        "# Developed by Guido van Rossum\n",
        "# Potable (run on every operating system)\n",
        "# Case Sensitive Language\n",
        "\n",
        "# Why Python ?\n",
        "# Versatile Language\n",
        "# Use in AI & ML\n",
        "# Use in Data Science\n",
        "# Use in Web Development\n",
        "# Use in Game Development\n",
        "\n",
        "# Before starting coding in Python we need to download Python and VS Code editor or any code editor in our operation system.\n",
        "# Our First Program"
      ],
      "metadata": {
        "id": "5LnCWdxDedGw"
      }
    },
    {
      "cell_type": "code",
      "execution_count": 1,
      "metadata": {
        "colab": {
          "base_uri": "https://localhost:8080/"
        },
        "id": "uM_wHW2mebju",
        "outputId": "544166f3-499c-4e2d-9c9e-d2a319eda0a8"
      },
      "outputs": [
        {
          "output_type": "stream",
          "name": "stdout",
          "text": [
            "Staring with the Supreme name of almighty Allah.\n",
            "Welcome to our Python Learning Gourney.\n",
            "Good Morning\n",
            "Hello Word!\n"
          ]
        }
      ],
      "source": [
        "print(\"Staring with the Supreme name of almighty Allah.\")\n",
        "print(\"Welcome to our Python Learning Gourney.\")\n",
        "print(\"Good Morning\")\n",
        "print(\"Hello Word!\")"
      ]
    },
    {
      "cell_type": "markdown",
      "source": [
        "# Python Character Sets\n",
        "# Letters: A to Z, a to z\n",
        "# Digits: 0 to 9\n",
        "# Special Symbols: -,+,*,/ etc...\n",
        "# Whitespaces: Blank Space, Tab,Carriage return,newline etc...\n",
        "\n",
        "\n",
        "# Note:\n"
      ],
      "metadata": {
        "id": "x4BJgXl5fnmh"
      }
    },
    {
      "cell_type": "code",
      "source": [
        "print(\"Starting with the supreme name of almighty Allah.He is the most merciful.\")  # normal string\n",
        "print(\"Starting with the supreme name of almighty Allah.\\nHe is the most merciful.\")  # start from next line when put \"\\n\".\n",
        "print(\"Starting with the supreme name of almighty Allah.\\tHe is the most merciful.\")  # leave one word space when put \"\\t\".\n"
      ],
      "metadata": {
        "colab": {
          "base_uri": "https://localhost:8080/"
        },
        "id": "70Nog9P6fk8d",
        "outputId": "4f89f0d0-9306-4709-9814-49dcd569615c"
      },
      "execution_count": 2,
      "outputs": [
        {
          "output_type": "stream",
          "name": "stdout",
          "text": [
            "Starting with the supreme name of almighty Allah.He is the most merciful.\n",
            "Starting with the supreme name of almighty Allah.\n",
            "He is the most merciful.\n",
            "Starting with the supreme name of almighty Allah.\tHe is the most merciful.\n"
          ]
        }
      ]
    },
    {
      "cell_type": "markdown",
      "source": [
        "# Variable\n",
        "# It is a name given to a memory which is varies in a program.\n",
        "# For instance\n"
      ],
      "metadata": {
        "id": "JuI7IAhjgADZ"
      }
    },
    {
      "cell_type": "code",
      "source": [
        "name = \"The Winners\"\n",
        "age = 35\n",
        "marks = 100.0\n",
        "print(name)\n",
        "print(age)\n",
        "print(marks)  # Here we think about double commas which we didnot write while using variables in print section, So for variables don't use double commas in prin() function.\n"
      ],
      "metadata": {
        "colab": {
          "base_uri": "https://localhost:8080/"
        },
        "id": "2PlWrunVfzmq",
        "outputId": "c521cba4-71a4-48f2-bb8c-e4a43bffaa08"
      },
      "execution_count": 3,
      "outputs": [
        {
          "output_type": "stream",
          "name": "stdout",
          "text": [
            "The Winners\n",
            "35\n",
            "100.0\n"
          ]
        }
      ]
    },
    {
      "cell_type": "markdown",
      "source": [
        "# other way to write same variables in a sentence i-e;"
      ],
      "metadata": {
        "id": "Ixhze2fTgMIp"
      }
    },
    {
      "cell_type": "code",
      "source": [
        "name = \"The Winners\"\n",
        "age = 35\n",
        "marks = 100.0\n",
        "print(\"My name is:\",name)\n",
        "print(\"My age is:\",age)\n",
        "print(\"My marks is:\",marks)\n"
      ],
      "metadata": {
        "colab": {
          "base_uri": "https://localhost:8080/"
        },
        "id": "86eyTn-1gIr6",
        "outputId": "ada9f7e7-baba-41e2-acfe-73049919b464"
      },
      "execution_count": 4,
      "outputs": [
        {
          "output_type": "stream",
          "name": "stdout",
          "text": [
            "My name is: The Winners\n",
            "My age is: 35\n",
            "My marks is: 100.0\n"
          ]
        }
      ]
    },
    {
      "cell_type": "code",
      "source": [],
      "metadata": {
        "id": "e5Y_4qnpgcXp"
      },
      "execution_count": null,
      "outputs": []
    },
    {
      "cell_type": "markdown",
      "source": [],
      "metadata": {
        "id": "DwxcN_bCfmOq"
      }
    }
  ]
}