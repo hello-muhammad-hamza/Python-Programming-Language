{
  "nbformat": 4,
  "nbformat_minor": 0,
  "metadata": {
    "colab": {
      "provenance": []
    },
    "kernelspec": {
      "name": "python3",
      "display_name": "Python 3"
    },
    "language_info": {
      "name": "python"
    }
  },
  "cells": [
    {
      "cell_type": "markdown",
      "source": [
        "# Conditional  Statements\n",
        "\n",
        "# if (condition):\n"
      ],
      "metadata": {
        "id": "JJudihZYH-rg"
      }
    },
    {
      "cell_type": "code",
      "execution_count": 1,
      "metadata": {
        "colab": {
          "base_uri": "https://localhost:8080/"
        },
        "id": "1YcufEsaH9A8",
        "outputId": "5891523e-c5e1-4fb6-ca41-cf02e400a5d7"
      },
      "outputs": [
        {
          "output_type": "stream",
          "name": "stdout",
          "text": [
            "congrulation on your excellent marks!\n"
          ]
        }
      ],
      "source": [
        "marks = 70\n",
        "if( marks >= 70):\n",
        "    print(\"congrulation on your excellent marks!\")\n",
        ""
      ]
    },
    {
      "cell_type": "markdown",
      "source": [
        "# elif(condition)\n"
      ],
      "metadata": {
        "id": "E1beS7sXIKxO"
      }
    },
    {
      "cell_type": "code",
      "source": [
        "a = 60\n",
        "if(a>60):\n",
        "    print(\"Done\")\n",
        "elif (a<=60):  # elif function wil be print when the first one is wrong & it must be writen after \"if function\".\n",
        "    print(\"NOt Sure\")\n",
        "else:\n",
        "    print(\"It's ok\")\n"
      ],
      "metadata": {
        "colab": {
          "base_uri": "https://localhost:8080/"
        },
        "id": "y4kC7mScIJuY",
        "outputId": "d113c428-5bb8-4994-d68d-fd52b8ad87d3"
      },
      "execution_count": 2,
      "outputs": [
        {
          "output_type": "stream",
          "name": "stdout",
          "text": [
            "NOt Sure\n"
          ]
        }
      ]
    },
    {
      "cell_type": "markdown",
      "source": [
        "# Similarly,"
      ],
      "metadata": {
        "id": "xdYSgKCFIUTV"
      }
    },
    {
      "cell_type": "code",
      "source": [
        "a = 100\n",
        "if(a>100):\n",
        "    print(\"yes\")\n",
        "elif (a==103):\n",
        "    print(\"no\")\n",
        "else:\n",
        "    print(\"don't worry!\")\n"
      ],
      "metadata": {
        "colab": {
          "base_uri": "https://localhost:8080/"
        },
        "id": "blOt9h8gIT13",
        "outputId": "d5dce49a-bad3-498e-d304-7337d9f69ed2"
      },
      "execution_count": 3,
      "outputs": [
        {
          "output_type": "stream",
          "name": "stdout",
          "text": [
            "don't worry!\n"
          ]
        }
      ]
    },
    {
      "cell_type": "markdown",
      "source": [
        "\n",
        "# Grade students based on their marks\n",
        " Simple logic building example:"
      ],
      "metadata": {
        "id": "7OLneCCbIpC9"
      }
    },
    {
      "cell_type": "code",
      "source": [
        "marks = int(input(\"Enter your marks :\"))\n",
        "\n",
        "if(marks >=90):\n",
        "    print(\"A\")\n",
        "elif(marks>=80 and marks<90):\n",
        "    print(\"B\")\n",
        "elif(marks>=70 and marks<80):\n",
        "    print(\"C\")\n",
        "else:\n",
        "    print(\"Yor are Independent!\")\n"
      ],
      "metadata": {
        "colab": {
          "base_uri": "https://localhost:8080/"
        },
        "id": "wYS9J1MoIeJu",
        "outputId": "200defda-a99c-40d5-e2cf-bf31c7d15d7f"
      },
      "execution_count": 7,
      "outputs": [
        {
          "output_type": "stream",
          "name": "stdout",
          "text": [
            "Enter your marks :50\n",
            "Yor are Independent!\n"
          ]
        }
      ]
    },
    {
      "cell_type": "markdown",
      "source": [
        "# Another examples\n",
        "# Let's suppose we have a variable s = vi t + 0.5 at2"
      ],
      "metadata": {
        "id": "ZIrwnn29I89L"
      }
    },
    {
      "cell_type": "code",
      "source": [
        "vi =4\n",
        "t = 2\n",
        "a = 4\n",
        "s =vi*t+0.5*a*t**t\n",
        "print (\"distance covered\",s)\n"
      ],
      "metadata": {
        "colab": {
          "base_uri": "https://localhost:8080/"
        },
        "id": "W2J7XerkI8N8",
        "outputId": "b8a476b6-2b0c-42fc-c150-c13fa04abafb"
      },
      "execution_count": 11,
      "outputs": [
        {
          "output_type": "stream",
          "name": "stdout",
          "text": [
            "distance covered 16.0\n"
          ]
        }
      ]
    }
  ]
}