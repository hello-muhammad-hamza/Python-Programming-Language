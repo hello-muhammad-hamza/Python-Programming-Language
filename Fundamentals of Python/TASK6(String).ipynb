{
  "nbformat": 4,
  "nbformat_minor": 0,
  "metadata": {
    "colab": {
      "provenance": []
    },
    "kernelspec": {
      "name": "python3",
      "display_name": "Python 3"
    },
    "language_info": {
      "name": "python"
    }
  },
  "cells": [
    {
      "cell_type": "markdown",
      "source": [
        "## Chp :     string\n",
        "\n",
        "#  Strings :\n",
        " It is a data type that stores a sequence of characters.\n",
        " String data may be in single,double or tripple codes but usually we use double codes.\n"
      ],
      "metadata": {
        "id": "6e9VK3RfNziQ"
      }
    },
    {
      "cell_type": "code",
      "execution_count": 1,
      "metadata": {
        "colab": {
          "base_uri": "https://localhost:8080/"
        },
        "id": "qqq22xx3Ny2P",
        "outputId": "3abbe4fb-1b74-423e-ee44-f9595be52a60"
      },
      "outputs": [
        {
          "output_type": "stream",
          "name": "stdout",
          "text": [
            "Welcom to string topic.\n",
            "Welcom to string topic.\n",
            "Welcom to string topic.\n"
          ]
        }
      ],
      "source": [
        "str1 = ('Welcom to string topic.')\n",
        "str2 = (\"Welcom to string topic.\")\n",
        "str3 = (\"\"\"Welcom to string topic.\"\"\")\n",
        "print(str1)\n",
        "print(str2)\n",
        "print(str3) # same output of all print statement.\n"
      ]
    },
    {
      "cell_type": "markdown",
      "source": [
        "\n",
        "# Escape sequence character\n",
        "# \\n  use for next line\n",
        "# \\t use for tab (space)\n",
        "\n",
        "\n",
        "# Some Basic Operations\n",
        "\n",
        "# Concatenation :\n",
        " It is used for adding more than one string i-e;\n"
      ],
      "metadata": {
        "id": "600sIazFOVoN"
      }
    },
    {
      "cell_type": "code",
      "source": [
        "a = (\"One of my friend,\")\n",
        "b = (\"his name is Ali.\")\n",
        "print (a + b)"
      ],
      "metadata": {
        "colab": {
          "base_uri": "https://localhost:8080/"
        },
        "id": "YPfKs1UAOdmP",
        "outputId": "eb7aea2e-3c36-460a-eafb-699368ad6588"
      },
      "execution_count": 2,
      "outputs": [
        {
          "output_type": "stream",
          "name": "stdout",
          "text": [
            "One of my friend,his name is Ali.\n"
          ]
        }
      ]
    },
    {
      "cell_type": "markdown",
      "source": [
        "# Length of string\n",
        " We find the length  of string by using len function.\n"
      ],
      "metadata": {
        "id": "65ioCM5oOmLu"
      }
    },
    {
      "cell_type": "code",
      "source": [
        "\n",
        "a = (\"One of my friend,\")\n",
        "b = (\"his name is Ali.\")\n",
        "c = a + b\n",
        "print(len(c))\n",
        "print(c)\n"
      ],
      "metadata": {
        "colab": {
          "base_uri": "https://localhost:8080/"
        },
        "id": "mMSOmWvyOkON",
        "outputId": "9e7aa054-a9ef-4ce3-c2f6-5a819554927d"
      },
      "execution_count": 3,
      "outputs": [
        {
          "output_type": "stream",
          "name": "stdout",
          "text": [
            "33\n",
            "One of my friend,his name is Ali.\n"
          ]
        }
      ]
    },
    {
      "cell_type": "markdown",
      "source": [
        "# Indexing\n",
        " It is a kind of position of any character in string. It helps to access character"
      ],
      "metadata": {
        "id": "RN_HpWH6Ovgs"
      }
    },
    {
      "cell_type": "code",
      "source": [
        "\n",
        "d11 = (\"Sun rises from the East.\")\n",
        "print(d11[2])     # sytax of index in a string\n",
        "print(d11[4])     # sytax of index in a string"
      ],
      "metadata": {
        "colab": {
          "base_uri": "https://localhost:8080/"
        },
        "id": "Ofo1zhWaOu7m",
        "outputId": "3e79d6c2-c2e1-42c6-9103-095620e00833"
      },
      "execution_count": 5,
      "outputs": [
        {
          "output_type": "stream",
          "name": "stdout",
          "text": [
            "n\n",
            "r\n"
          ]
        }
      ]
    },
    {
      "cell_type": "markdown",
      "source": [],
      "metadata": {
        "id": "6xCgD_5CRRbh"
      }
    },
    {
      "cell_type": "markdown",
      "source": [
        "# Negative indexing\n",
        "simiarly negative indexing just reverse of above index method."
      ],
      "metadata": {
        "id": "eKI4zBNhRWHJ"
      }
    },
    {
      "cell_type": "code",
      "source": [
        "d111 = (\"Sun rises from the East.\")\n",
        "print(d111[-2])\n",
        "print(d111[-3])"
      ],
      "metadata": {
        "colab": {
          "base_uri": "https://localhost:8080/"
        },
        "id": "oxuR1uFyRQ3M",
        "outputId": "44e4b628-3c43-4ad5-cbd7-f3c560af6e6c"
      },
      "execution_count": 7,
      "outputs": [
        {
          "output_type": "stream",
          "name": "stdout",
          "text": [
            "t\n",
            "s\n"
          ]
        }
      ]
    },
    {
      "cell_type": "markdown",
      "source": [
        "\n",
        "# Slicing :\n",
        "To make the parts of string is simply called slicing.\n"
      ],
      "metadata": {
        "id": "viSUBlZ5R9wH"
      }
    },
    {
      "cell_type": "code",
      "source": [
        "f = (\"Sun rises from the East and same scenario happens always.\")\n",
        "print(f[28:57])\n",
        "print(f[28:]) # Same output python automatically detect the end index without mentioning.\n",
        "print(f[:24])"
      ],
      "metadata": {
        "colab": {
          "base_uri": "https://localhost:8080/"
        },
        "id": "A5ksBwplR82R",
        "outputId": "072148b9-e337-4de8-9241-03f07f68f8fd"
      },
      "execution_count": 10,
      "outputs": [
        {
          "output_type": "stream",
          "name": "stdout",
          "text": [
            "same scenario happens always.\n",
            "same scenario happens always.\n",
            "Sun rises from the East \n"
          ]
        }
      ]
    },
    {
      "cell_type": "markdown",
      "source": [
        "\n",
        "# Negative Slicing\n",
        "It is same like slicing but just reverse of above slicing."
      ],
      "metadata": {
        "id": "dumbrxa0Sfvn"
      }
    },
    {
      "cell_type": "code",
      "source": [
        "f1 = (\"Sun rises from the East and same scenario happens always.\")\n",
        "print(f1[-29:-1])\n",
        "print(f1[-57:-24])"
      ],
      "metadata": {
        "colab": {
          "base_uri": "https://localhost:8080/"
        },
        "id": "hV2bXE3KSS6A",
        "outputId": "a2e0c107-9eab-4459-8a8b-27d32da54d92"
      },
      "execution_count": 13,
      "outputs": [
        {
          "output_type": "stream",
          "name": "stdout",
          "text": [
            "same scenario happens always\n",
            "Sun rises from the East and same \n"
          ]
        }
      ]
    },
    {
      "cell_type": "markdown",
      "source": [
        "# Methods\n",
        "Methods are some rules which perform specific task in any function and these are specific or may not be specicfic i-e like here we discuss some methods which is only applicable in string but may not be applicable in list , tupple etc...\n",
        "\n",
        "\n"
      ],
      "metadata": {
        "id": "Rn1i87z3TLxM"
      }
    },
    {
      "cell_type": "code",
      "source": [],
      "metadata": {
        "id": "YLyixg0_UDFr"
      },
      "execution_count": null,
      "outputs": []
    },
    {
      "cell_type": "markdown",
      "source": [
        "# .endswith() Method"
      ],
      "metadata": {
        "id": "9ScR5pE4UDrQ"
      }
    },
    {
      "cell_type": "code",
      "source": [
        "\n",
        "g = (\"I have started coding journey since 2024\")\n",
        "print(g.endswith(\"2024\"))    # it returns the bolean value, if the word is present in the string return True otherwise Not return.\n"
      ],
      "metadata": {
        "colab": {
          "base_uri": "https://localhost:8080/"
        },
        "id": "0pEY0k3LTGEe",
        "outputId": "3edbd7da-9939-4c7a-8f31-eecc28c2a23c"
      },
      "execution_count": 14,
      "outputs": [
        {
          "output_type": "stream",
          "name": "stdout",
          "text": [
            "True\n"
          ]
        }
      ]
    },
    {
      "cell_type": "markdown",
      "source": [
        "# .capitalize() Method\n"
      ],
      "metadata": {
        "id": "BeWo3BhqUnEo"
      }
    },
    {
      "cell_type": "code",
      "source": [
        "\n",
        "g = (\"i have started coding journey since 2024\")\n",
        "print(g.capitalize()) # it returns the first word in capital letter, if the starting leeting is in small.\n",
        "\n"
      ],
      "metadata": {
        "colab": {
          "base_uri": "https://localhost:8080/"
        },
        "id": "kJlHNwSVUkKJ",
        "outputId": "1998123f-c213-4259-c1d1-c87ad6377f8f"
      },
      "execution_count": 17,
      "outputs": [
        {
          "output_type": "stream",
          "name": "stdout",
          "text": [
            "I have started coding journey since 2024\n"
          ]
        }
      ]
    },
    {
      "cell_type": "markdown",
      "source": [
        "#.upper() Method\n",
        "it returns the all letters in capital letter."
      ],
      "metadata": {
        "id": "J05WWlNIVX6V"
      }
    },
    {
      "cell_type": "code",
      "source": [
        "h = (\"Learning coding is my passion.\")\n",
        "print(h.upper())"
      ],
      "metadata": {
        "colab": {
          "base_uri": "https://localhost:8080/"
        },
        "id": "nTURqmbLVGI3",
        "outputId": "cb71f779-e0ea-4df1-a271-c93a5ed81f68"
      },
      "execution_count": 18,
      "outputs": [
        {
          "output_type": "stream",
          "name": "stdout",
          "text": [
            "LEARNING CODING IS MY PASSION.\n"
          ]
        }
      ]
    },
    {
      "cell_type": "markdown",
      "source": [
        "# .lower() Method\n"
      ],
      "metadata": {
        "id": "w5KvX9zEX119"
      }
    },
    {
      "cell_type": "code",
      "source": [
        "h1 = (\"Learning CODING is my PASSION.\")\n",
        "print(h1.lower())"
      ],
      "metadata": {
        "colab": {
          "base_uri": "https://localhost:8080/"
        },
        "id": "pyoq97qtVqc1",
        "outputId": "5c2d1fd7-d434-452f-8571-11e318408deb"
      },
      "execution_count": 21,
      "outputs": [
        {
          "output_type": "stream",
          "name": "stdout",
          "text": [
            "learning coding is my passion.\n"
          ]
        }
      ]
    }
  ]
}