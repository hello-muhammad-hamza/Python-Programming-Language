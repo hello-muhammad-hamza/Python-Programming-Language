{
  "nbformat": 4,
  "nbformat_minor": 0,
  "metadata": {
    "colab": {
      "provenance": []
    },
    "kernelspec": {
      "name": "python3",
      "display_name": "Python 3"
    },
    "language_info": {
      "name": "python"
    }
  },
  "cells": [
    {
      "cell_type": "markdown",
      "source": [
        "# How to take input (data) from Users.\n",
        "\n",
        " It's output is always in string.\n",
        "\n"
      ],
      "metadata": {
        "id": "9PucyldEqdPp"
      }
    },
    {
      "cell_type": "code",
      "source": [
        "name = (input(\"enter your name:\"))\n",
        "print(\"welcome to your own platform!\", name)\n",
        "print(type(name))   # output is always string data type."
      ],
      "metadata": {
        "colab": {
          "base_uri": "https://localhost:8080/"
        },
        "id": "lAWYiuoDqWYZ",
        "outputId": "3cf85c80-277a-4208-a8bd-765032c4f76d"
      },
      "execution_count": 1,
      "outputs": [
        {
          "output_type": "stream",
          "name": "stdout",
          "text": [
            "enter your name:Muhammad Hamza\n",
            "welcome to your own platform! Muhammad Hamza\n",
            "<class 'str'>\n"
          ]
        }
      ]
    },
    {
      "cell_type": "markdown",
      "source": [
        "# NOTE: Input data output is always in str but with type Casting we can change its data type i-e;"
      ],
      "metadata": {
        "id": "p2fwNzkirFdF"
      }
    },
    {
      "cell_type": "code",
      "source": [
        "\n",
        "number = int(input(\"enter your no:\"))\n",
        "print(\"welcome to your own platform!\", number)\n",
        "print(type(number))  # Now its output in the int type, which is possible through Casting."
      ],
      "metadata": {
        "colab": {
          "base_uri": "https://localhost:8080/"
        },
        "id": "t3U49yZ3uT0E",
        "outputId": "6e92a051-fdcf-4bc9-e3bb-7031f913d827"
      },
      "execution_count": 5,
      "outputs": [
        {
          "output_type": "stream",
          "name": "stdout",
          "text": [
            "enter your no:1234\n",
            "welcome to your own platform! 1234\n",
            "<class 'int'>\n"
          ]
        }
      ]
    },
    {
      "cell_type": "markdown",
      "source": [
        "# An example of getting data from users as a input"
      ],
      "metadata": {
        "id": "jrF5p6VlunSh"
      }
    },
    {
      "cell_type": "code",
      "source": [
        "student_name = input(\"Enter your good name:\")\n",
        "student_roll_no = input(\"Enter your registeration no:\")\n",
        "student_marks = input(\"Enter your marks:\")\n",
        "print(\"Welcome :\",student_name)\n",
        "print(\"Thank you for registeration: Dear;\",student_name)\n",
        "print(\"You entered:\",student_roll_no)\n",
        "print(\"Excellent marks:\",student_marks)\n",
        "print(\"Congrats on your excellent performance\")\n"
      ],
      "metadata": {
        "colab": {
          "base_uri": "https://localhost:8080/"
        },
        "id": "Mg8acz15rrcl",
        "outputId": "40046af5-05dd-411c-aa81-63893e37cd43"
      },
      "execution_count": 3,
      "outputs": [
        {
          "output_type": "stream",
          "name": "stdout",
          "text": [
            "Enter your good name:Muhammad Saad\n",
            "Enter your registeration no:1234\n",
            "Enter your marks:100\n",
            "Welcome : Muhammad Saad\n",
            "Thank you for registeration: Dear; Muhammad Saad\n",
            "You entered: 1234\n",
            "Excellent marks: 100\n",
            "Congrats on your excellent performance\n"
          ]
        }
      ]
    },
    {
      "cell_type": "markdown",
      "source": [
        "# Program of input two int numbers and print if a is greater than b."
      ],
      "metadata": {
        "id": "N-gaW_xmsPJy"
      }
    },
    {
      "cell_type": "code",
      "source": [
        "\n",
        "a = int(input(\"Enter first :\"))\n",
        "b = int(input(\"Enter Second :\"))\n",
        "c = (a >= b)\n",
        "print(c)"
      ],
      "metadata": {
        "colab": {
          "base_uri": "https://localhost:8080/"
        },
        "id": "m_0XKE5osOLN",
        "outputId": "fec1ce4f-7f97-4e7c-8b11-0eda92079913"
      },
      "execution_count": 4,
      "outputs": [
        {
          "output_type": "stream",
          "name": "stdout",
          "text": [
            "Enter first :20\n",
            "Enter Second :15\n",
            "True\n"
          ]
        }
      ]
    },
    {
      "cell_type": "markdown",
      "source": [
        "#Program of input side of square and print its area.\n",
        "\n",
        "\n"
      ],
      "metadata": {
        "id": "zFGV-J5Fu_TW"
      }
    },
    {
      "cell_type": "code",
      "source": [
        "a = int(input(\"enter your first no:\"))\n",
        "c = a * a\n",
        "print(\"Area = \", c)"
      ],
      "metadata": {
        "colab": {
          "base_uri": "https://localhost:8080/"
        },
        "id": "xjJ7MQfou-Rd",
        "outputId": "3273c55b-5c1e-48bf-99c2-2957c121cfcf"
      },
      "execution_count": 6,
      "outputs": [
        {
          "output_type": "stream",
          "name": "stdout",
          "text": [
            "enter your first no:4\n",
            "Area =  16\n"
          ]
        }
      ]
    }
  ]
}