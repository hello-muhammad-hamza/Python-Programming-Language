{
  "nbformat": 4,
  "nbformat_minor": 0,
  "metadata": {
    "colab": {
      "provenance": []
    },
    "kernelspec": {
      "name": "python3",
      "display_name": "Python 3"
    },
    "language_info": {
      "name": "python"
    }
  },
  "cells": [
    {
      "cell_type": "markdown",
      "source": [
        "#                      Function :\n",
        " Block of statements that perform a specific task.\n",
        " It is used to reduce the redundantancy (repeatition in same code)."
      ],
      "metadata": {
        "id": "y_uYwcENMuXW"
      }
    },
    {
      "cell_type": "markdown",
      "source": [
        "# function definition"
      ],
      "metadata": {
        "id": "pVAFmlo3M1ek"
      }
    },
    {
      "cell_type": "code",
      "source": [
        "def mult(a,b): # parameters\n",
        "    mult= (a*b)\n",
        "    print(mult)\n",
        "    return mult\n",
        "\n",
        "mult(2,2)  # function call : arguments\n",
        "\n",
        "mult(2,3)\n",
        "\n",
        "mult(3,3)\n",
        "\n",
        "mult(3,5)"
      ],
      "metadata": {
        "colab": {
          "base_uri": "https://localhost:8080/"
        },
        "id": "sAnf2eh9M0JV",
        "outputId": "dea96186-6ede-47c1-c37a-b9115225b7f2"
      },
      "execution_count": 1,
      "outputs": [
        {
          "output_type": "stream",
          "name": "stdout",
          "text": [
            "4\n",
            "6\n",
            "9\n",
            "15\n"
          ]
        },
        {
          "output_type": "execute_result",
          "data": {
            "text/plain": [
              "15"
            ]
          },
          "metadata": {},
          "execution_count": 1
        }
      ]
    },
    {
      "cell_type": "code",
      "source": [
        "def averageformula(a,b,c):\n",
        "    sum = a+b+c\n",
        "    avege=sum/3\n",
        "    print(avege)\n",
        "\n",
        "\n",
        "averageformula(1,2,3)\n"
      ],
      "metadata": {
        "colab": {
          "base_uri": "https://localhost:8080/"
        },
        "id": "GUjQavUwNDrX",
        "outputId": "3423c77b-ed84-40c7-9cff-8532978b14e4"
      },
      "execution_count": 3,
      "outputs": [
        {
          "output_type": "stream",
          "name": "stdout",
          "text": [
            "2.0\n"
          ]
        }
      ]
    }
  ]
}