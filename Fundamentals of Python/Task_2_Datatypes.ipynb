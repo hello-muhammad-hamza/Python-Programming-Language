{
  "nbformat": 4,
  "nbformat_minor": 0,
  "metadata": {
    "colab": {
      "provenance": []
    },
    "kernelspec": {
      "name": "python3",
      "display_name": "Python 3"
    },
    "language_info": {
      "name": "python"
    }
  },
  "cells": [
    {
      "cell_type": "markdown",
      "source": [],
      "metadata": {
        "id": "R0DrP53YdWM7"
      }
    },
    {
      "cell_type": "markdown",
      "source": [
        "# Data Types;\n",
        "# These are the different forms of data.\n",
        "# String               \n",
        "# Integer\n",
        "# Float\n",
        "# Boolean\n",
        "# None"
      ],
      "metadata": {
        "id": "jU1Nv9IZclF8"
      }
    },
    {
      "cell_type": "code",
      "execution_count": 1,
      "metadata": {
        "colab": {
          "base_uri": "https://localhost:8080/"
        },
        "id": "ES1iAQRuckBY",
        "outputId": "bb97a347-1668-4e2b-9b8e-7a02fd76e979"
      },
      "outputs": [
        {
          "output_type": "stream",
          "name": "stdout",
          "text": [
            "<class 'str'>\n",
            "<class 'int'>\n",
            "<class 'float'>\n"
          ]
        }
      ],
      "source": [
        "name = \"The Winners\"\n",
        "age = 35\n",
        "marks = 100.0\n",
        "print(type(name))\n",
        "print(type(age))\n",
        "print(type(marks))\n"
      ]
    },
    {
      "cell_type": "markdown",
      "source": [
        "# String Data Type\n",
        "# String is a data type in which we store data in text form and put data inside the commas.\n",
        "# String may be in single commas, double commas or tripple commas."
      ],
      "metadata": {
        "id": "X1VkEUewdcSX"
      }
    },
    {
      "cell_type": "code",
      "source": [
        "string = \"Hellow World!\"\n",
        "print(string)\n",
        "print(type(string))\n"
      ],
      "metadata": {
        "colab": {
          "base_uri": "https://localhost:8080/"
        },
        "id": "KaGOy1cfdfhI",
        "outputId": "98dd2708-2a4d-4ace-f111-81af4f75dfb3"
      },
      "execution_count": 2,
      "outputs": [
        {
          "output_type": "stream",
          "name": "stdout",
          "text": [
            "Hellow World!\n",
            "<class 'str'>\n"
          ]
        }
      ]
    },
    {
      "cell_type": "markdown",
      "source": [
        "# Integer Data Type\n",
        "# In this data type, we store data in the form of integers, i-e 0,+1,-1 etc..."
      ],
      "metadata": {
        "id": "FWtnR8owdneg"
      }
    },
    {
      "cell_type": "code",
      "source": [
        "integer = 100\n",
        "print(integer)\n",
        "print(type(integer))\n"
      ],
      "metadata": {
        "colab": {
          "base_uri": "https://localhost:8080/"
        },
        "id": "sIXS2m1_dmsH",
        "outputId": "6e8185df-140c-4dcd-eb7c-79f24baf47f3"
      },
      "execution_count": 3,
      "outputs": [
        {
          "output_type": "stream",
          "name": "stdout",
          "text": [
            "100\n",
            "<class 'int'>\n"
          ]
        }
      ]
    },
    {
      "cell_type": "markdown",
      "source": [
        "# Float Data Type\n",
        "# In this data Type, we store data in the form of decimal numbers, i-e 0.1, 0.2, 4.2 etc..."
      ],
      "metadata": {
        "id": "7jfRGr0ud5SD"
      }
    },
    {
      "cell_type": "code",
      "source": [
        "float = 100.0\n",
        "print(float)\n",
        "print(type(float))\n"
      ],
      "metadata": {
        "colab": {
          "base_uri": "https://localhost:8080/"
        },
        "id": "plLMbVVXd4n-",
        "outputId": "ac15ac21-da1d-4ec3-e088-87004221e549"
      },
      "execution_count": 4,
      "outputs": [
        {
          "output_type": "stream",
          "name": "stdout",
          "text": [
            "100.0\n",
            "<class 'float'>\n"
          ]
        }
      ]
    },
    {
      "cell_type": "markdown",
      "source": [
        "# Boolean Data Type\n",
        "# It always return True or False"
      ],
      "metadata": {
        "id": "ueNNVZX2eCcr"
      }
    },
    {
      "cell_type": "code",
      "source": [
        "boolean = 4\n",
        "print(boolean > 3)  # output True which is boolean datatype.\n",
        "even = True\n",
        "print(type(even))\n"
      ],
      "metadata": {
        "colab": {
          "base_uri": "https://localhost:8080/"
        },
        "id": "9FE172SSeBlN",
        "outputId": "3e4403cd-e109-456f-d597-ecca76004a50"
      },
      "execution_count": 5,
      "outputs": [
        {
          "output_type": "stream",
          "name": "stdout",
          "text": [
            "True\n",
            "<class 'bool'>\n"
          ]
        }
      ]
    },
    {
      "cell_type": "markdown",
      "source": [
        "\n",
        "# None Data Type"
      ],
      "metadata": {
        "id": "5EFE4cvJeOIk"
      }
    },
    {
      "cell_type": "code",
      "source": [
        "none = None\n",
        "print(none)\n",
        "print(type(none))"
      ],
      "metadata": {
        "colab": {
          "base_uri": "https://localhost:8080/"
        },
        "id": "RCbbXvrBeKWV",
        "outputId": "951a1f39-c77e-4d30-8b36-2927e73c5a8e"
      },
      "execution_count": 6,
      "outputs": [
        {
          "output_type": "stream",
          "name": "stdout",
          "text": [
            "None\n",
            "<class 'NoneType'>\n"
          ]
        }
      ]
    },
    {
      "cell_type": "markdown",
      "source": [
        " Comments in Python\n",
        "\n",
        "\"\"\"Comments are not part of the code but to understand the code\"\"\"\n"
      ],
      "metadata": {
        "id": "D4TZTsVce50z"
      }
    },
    {
      "cell_type": "code",
      "source": [
        "p = \"Ali is my best friend\"\n",
        "print(p)   # this is string data type, which is (comment)\n",
        "\n",
        "\n"
      ],
      "metadata": {
        "colab": {
          "base_uri": "https://localhost:8080/"
        },
        "id": "qjLrXdeGf25Z",
        "outputId": "6076d8f2-6abd-47a8-cea1-acdeec287835"
      },
      "execution_count": 14,
      "outputs": [
        {
          "output_type": "stream",
          "name": "stdout",
          "text": [
            "Ali is my best friend\n"
          ]
        }
      ]
    }
  ]
}