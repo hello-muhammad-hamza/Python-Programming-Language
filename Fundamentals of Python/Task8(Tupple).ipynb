{
  "nbformat": 4,
  "nbformat_minor": 0,
  "metadata": {
    "colab": {
      "provenance": []
    },
    "kernelspec": {
      "name": "python3",
      "display_name": "Python 3"
    },
    "language_info": {
      "name": "python"
    }
  },
  "cells": [
    {
      "cell_type": "markdown",
      "source": [
        "# #             Tupple  (Data Structure)\n",
        " Tupple is a built-in-data type in which we create immutable sequence values put in parenthesis.\n",
        "\n",
        ">\n",
        "\n",
        "\n",
        "\n",
        " It is immutable just like \"string\" which is also immutable."
      ],
      "metadata": {
        "id": "M3Wle3qRnYLV"
      }
    },
    {
      "cell_type": "code",
      "source": [
        "\n",
        "a = (33,44,55,66,77,88)\n",
        "print(a)\n",
        "print(type(a))\n",
        "print(len(a))  # Length function\n",
        "print(a[2])    # Index function\n",
        "print(a[1:5])  # Slicing function\n",
        "\n",
        "# while putting single value in tupple must put comma at the end, otherwise python wil consider it other data type.\n",
        "\n",
        "a1 = (\"hello\",)\n",
        "a2 = (2,)\n",
        "print(a1)\n",
        "print(a2)\n",
        "print(type(a1))\n",
        "print(type(a2))\n"
      ],
      "metadata": {
        "colab": {
          "base_uri": "https://localhost:8080/"
        },
        "id": "k8PnHx9bnVN-",
        "outputId": "eecf83f7-3870-4cb0-9ee6-47ebfc2cd1da"
      },
      "execution_count": 24,
      "outputs": [
        {
          "output_type": "stream",
          "name": "stdout",
          "text": [
            "(33, 44, 55, 66, 77, 88)\n",
            "<class 'tuple'>\n",
            "6\n",
            "55\n",
            "(44, 55, 66, 77)\n",
            "('hello',)\n",
            "(2,)\n",
            "<class 'tuple'>\n",
            "<class 'tuple'>\n"
          ]
        }
      ]
    },
    {
      "cell_type": "markdown",
      "source": [
        "\n",
        "# Tupple Methods\n",
        "# .index Method :"
      ],
      "metadata": {
        "id": "0ijcB-Iankcb"
      }
    },
    {
      "cell_type": "code",
      "source": [
        "b = ( 333,222,111,444,555)\n",
        "b.index(111)\n",
        "print(b.index(111))"
      ],
      "metadata": {
        "colab": {
          "base_uri": "https://localhost:8080/"
        },
        "id": "Ubcns26xngit",
        "outputId": "f2a549c2-b723-4232-a88f-6ae0636bd827"
      },
      "execution_count": 25,
      "outputs": [
        {
          "output_type": "stream",
          "name": "stdout",
          "text": [
            "2\n"
          ]
        }
      ]
    },
    {
      "cell_type": "markdown",
      "source": [
        "#  .count Method :"
      ],
      "metadata": {
        "id": "SoxUaBfTnv5L"
      }
    },
    {
      "cell_type": "code",
      "source": [
        "c = ( 333,111,222,111,444,555,111)\n",
        "c.count(111)\n",
        "print(c.count(111))"
      ],
      "metadata": {
        "colab": {
          "base_uri": "https://localhost:8080/"
        },
        "id": "mN34XX-ontId",
        "outputId": "8a8f9d76-28d1-4272-dd25-197bd5327054"
      },
      "execution_count": 26,
      "outputs": [
        {
          "output_type": "stream",
          "name": "stdout",
          "text": [
            "3\n"
          ]
        }
      ]
    },
    {
      "cell_type": "markdown",
      "source": [],
      "metadata": {
        "id": "RpMfciHEo69g"
      }
    },
    {
      "cell_type": "code",
      "source": [
        "a = input(\"Enter your first favourite movie name:\")\n",
        "b = input(\"Enter your second favourite movie name:\")\n",
        "c = input(\"Enter your third favourite movie name:\")\n",
        "movies = []\n",
        "movies.append(a)\n",
        "movies.append(b)\n",
        "movies.append(c)\n",
        "print(\"your favourite movies name:\",movies)\n",
        "#  similarly other way to write code\n",
        "super_hit_movies = []\n",
        "super_hit_movies.append(input(\"enter your first movie:\"))\n",
        "super_hit_movies.append(input(\"enter your second movie:\"))\n",
        "super_hit_movies.append(input(\"enter your third movie:\"))\n",
        "print(\"your best movies name:\",super_hit_movies)"
      ],
      "metadata": {
        "colab": {
          "base_uri": "https://localhost:8080/"
        },
        "id": "xnE5dIYwo6Nh",
        "outputId": "5eaa17b8-47b2-490c-91fa-084bdc80d99f"
      },
      "execution_count": 27,
      "outputs": [
        {
          "output_type": "stream",
          "name": "stdout",
          "text": [
            "Enter your first favourite movie name:3idiot\n",
            "Enter your second favourite movie name:Mard\n",
            "Enter your third favourite movie name:Badnam\n",
            "your favourite movies name: ['3idiot', 'Mard', 'Badnam']\n",
            "enter your first movie:3idiot\n",
            "enter your second movie:Badnam\n",
            "enter your third movie:Mard\n",
            "your best movies name: ['3idiot', 'Badnam', 'Mard']\n"
          ]
        }
      ]
    },
    {
      "cell_type": "code",
      "source": [],
      "metadata": {
        "id": "JcMBEhRhq4pT"
      },
      "execution_count": null,
      "outputs": []
    }
  ]
}